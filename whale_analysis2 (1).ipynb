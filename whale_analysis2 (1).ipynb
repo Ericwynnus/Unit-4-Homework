{
 "cells": [
  {
   "cell_type": "markdown",
   "metadata": {},
   "source": [
    " #  A Whale off the Port(folio)\n",
    " ---\n",
    "\n",
    " In this assignment, you'll get to use what you've learned this week to evaluate the performance among various algorithmic, hedge, and mutual fund portfolios and compare them against the S&P 500 Index."
   ]
  },
  {
   "cell_type": "markdown",
   "metadata": {},
   "source": [
    "# Initial imports\n",
    "import pandas as pd\n",
    "import numpy as np\n",
    "import datetime as dt\n",
    "from pathlib import Path\n",
    "\n",
    "#!pip install quandl\n",
    "import quandl\n",
    "\n",
    "%matplotlib inline"
   ]
  },
  {
   "cell_type": "markdown",
   "metadata": {},
   "source": [
    "# Data Cleaning\n",
    "\n",
    "In this section, you will need to read the CSV files into DataFrames and perform any necessary data cleaning steps. After cleaning, combine all DataFrames into a single DataFrame.\n",
    "\n",
    "Files:\n",
    "\n",
    "* `whale_returns.csv`: Contains returns of some famous \"whale\" investors' portfolios.\n",
    "\n",
    "* `algo_returns.csv`: Contains returns from the in-house trading algorithms from Harold's company.\n",
    "\n",
    "* `sp500_history.csv`: Contains historical closing prices of the S&P 500 Index."
   ]
  },
  {
   "cell_type": "markdown",
   "metadata": {},
   "source": [
    "## Whale Returns\n",
    "\n",
    "Read the Whale Portfolio daily returns and clean the data"
   ]
  },
  {
   "cell_type": "markdown",
   "metadata": {},
   "source": [
    "#reading Whale Returns from\n",
    "whale_returns = Path(\"Resources/whale_returns.csv\")\n",
    "whale_returns_data = pd.read_csv(whale_returns)\n",
    "whale_returns_data.head()\n"
   ]
  },
  {
   "cell_type": "markdown",
   "metadata": {},
   "source": [
    "# Count nulls\n",
    "whale_returns_data.isnull()"
   ]
  },
  {
   "cell_type": "markdown",
   "metadata": {},
   "source": [
    "# Drop nulls\n",
    "whale_returns_data.isnull().sum()\n"
   ]
  },
  {
   "cell_type": "markdown",
   "metadata": {},
   "source": [
    "## Algorithmic Daily Returns\n",
    "\n",
    "Read the algorithmic daily returns and clean the data"
   ]
  },
  {
   "cell_type": "markdown",
   "metadata": {},
   "source": [
    "# Reading algorithmic returns\n",
    "#Section 3.3 Returns/Refreshers\n",
    "algo_returns = Path(\"Resources/algo_returns.csv\")\n",
    "algo_returns = pd.read_csv(algo_returns)\n",
    "algo_returns.head()\n",
    "\n",
    "algo_returns.dtypes"
   ]
  },
  {
   "cell_type": "markdown",
   "metadata": {},
   "source": [
    "# Count nulls\n",
    "algo_returns.isnull()"
   ]
  },
  {
   "cell_type": "markdown",
   "metadata": {},
   "source": [
    "# Drop nulls\n",
    "algo_returns.isnull().sum()"
   ]
  },
  {
   "cell_type": "markdown",
   "metadata": {},
   "source": [
    "## S&P 500 Returns\n",
    "\n",
    "Read the S&P 500 historic closing prices and create a new daily returns DataFrame from the data. "
   ]
  },
  {
   "cell_type": "markdown",
   "metadata": {},
   "source": [
    "# Reading S&P 500 Closing Prices\n",
    "sp500_history = Path(\"./resources/sp500_history.csv\")\n",
    "sp500_history = pd.read_csv(sp500_history)\n",
    "sp500_history.head()\n",
    "\n",
    "sp500_history.dtypes"
   ]
  },
  {
   "cell_type": "markdown",
   "metadata": {},
   "source": [
    "# Check Data Types\n",
    "sp500_history.count()\n",
    "\n",
    "sp500_history.isnull()\n",
    "\n",
    "sp500_history.isnull().sum()"
   ]
  },
  {
   "cell_type": "markdown",
   "metadata": {},
   "source": [
    "# Fix Data Types\n",
    "sp500_history.isnull().sum() / len(sp500_history) * 100"
   ]
  },
  {
   "cell_type": "markdown",
   "metadata": {},
   "source": [
    "sp500_history\n",
    "\n",
    "#Tutor Recomendation; research dropping dollar sign and doing percentage on the closing price.\n"
   ]
  },
  {
   "cell_type": "markdown",
   "metadata": {},
   "source": [
    "# Calculate Daily Returns\n",
    "sp500_history = sp500_history.pct_change()\n",
    "sp500_history_returns"
   ]
  },
  {
   "cell_type": "markdown",
   "metadata": {},
   "source": [
    "# Drop nulls\n",
    "sp500_history.isnull().sum()"
   ]
  },
  {
   "cell_type": "markdown",
   "metadata": {},
   "source": [
    "# Rename `Close` Column to be specific to this portfolio.\n",
    "# Process noted in 4.2 \"Portfolio Returns\"\n",
    "\n",
    "sp500_history.Close = ['Daily Returns']\n",
    "sp500_history.head()"
   ]
  },
  {
   "cell_type": "markdown",
   "metadata": {},
   "source": []
  },
  {
   "cell_type": "markdown",
   "metadata": {},
   "source": [
    "## Combine Whale, Algorithmic, and S&P 500 Returns"
   ]
  },
  {
   "cell_type": "markdown",
   "metadata": {},
   "source": [
    "# Join Whale Returns, Algorithmic Returns, and the S&P 500 Returns into a single DataFrame with columns for each portfolio's returns.\n",
    "# Using UNit 4.2 Concat 01 as my reference for this portion. \n",
    "\n",
    "column_appended_data = pd.concat([algo_returns, sp500_history, whale_returns_data], axis=\"columns\", join=\"inner\")\n",
    "column_appended_data\n",
    "\n"
   ]
  },
  {
   "cell_type": "markdown",
   "metadata": {},
   "source": [
    "---"
   ]
  },
  {
   "cell_type": "markdown",
   "metadata": {},
   "source": [
    "# Conduct Quantitative Analysis\n",
    "\n",
    "In this section, you will calculate and visualize performance and risk metrics for the portfolios."
   ]
  },
  {
   "cell_type": "markdown",
   "metadata": {},
   "source": [
    "## Performance Anlysis\n",
    "\n",
    "#### Calculate and Plot the daily returns."
   ]
  },
  {
   "cell_type": "markdown",
   "metadata": {},
   "source": [
    "# Plot daily returns of all portfolios\n",
    "# I am using unit 4.2 #13 Portfolio Returns for this section.\n",
    "\n",
    "daily_returns = (sp500_history - sp500_history.shift(1)) / sp500_history.shift(1)\n",
    "daily_returns.head()\n",
    "\n",
    "daily_returns = sp500_history.csv.pct_change()\n",
    "daily_returns.head()\n",
    "\n",
    "daily_returns.plot(figsize=(10,5))\n",
    "\n",
    "\n"
   ]
  },
  {
   "cell_type": "markdown",
   "metadata": {},
   "source": [
    "# Plot daily returns of all portfolios\n",
    "# I am using unit 4.2 #13 Portfolio Returns for this section.\n",
    "\n",
    "daily_returns = (algo_returns - algo_returns.shift(1)) / algo_returns.shift(1)\n",
    "daily_returns.head()\n",
    "\n",
    "daily_returns = algo_returns_history.csv.pct_change()\n",
    "daily_returns.head()\n",
    "\n",
    "daily_returns.plot(figsize=(10,5))\n",
    "\n",
    "\n",
    "\n"
   ]
  },
  {
   "cell_type": "markdown",
   "metadata": {},
   "source": [
    "# Plot daily returns of all portfolios\n",
    "# I am using unit 4.2 #13 Portfolio Returns for this section.\n",
    "\n",
    "daily_returns = (whale_returns_data - whale_returns_data.shift(1)) / whale_returns_data.shift(1)\n",
    "daily_returns.head()\n",
    "\n",
    "daily_returns = whale_returns_history.csv.pct_change()\n",
    "daily_returns.head()\n",
    "\n",
    "daily_returns.plot(figsize=(10,5))\n",
    "\n",
    "\n",
    "\n"
   ]
  },
  {
   "cell_type": "markdown",
   "metadata": {},
   "source": [
    "#### Calculate and Plot cumulative returns."
   ]
  },
  {
   "cell_type": "markdown",
   "metadata": {},
   "source": [
    "# Calculate cumulative returns of all portfolios\n",
    "\n",
    "daily_returns = (whale_returns_data - whale_returns_data.shift(1)) / whale_returns_data.shift(1)\n",
    "daily_returns.head()\n",
    "\n",
    "cumulative_returns = (1 + daily_returns).cumprod()\n",
    "cumulative_returns.head()\n",
    "# Plot cumulative returns\n",
    "cumulative_returns.plot(figsize=(10,5))"
   ]
  },
  {
   "cell_type": "markdown",
   "metadata": {},
   "source": [
    "---"
   ]
  },
  {
   "cell_type": "markdown",
   "metadata": {},
   "source": [
    "## Risk Analysis\n",
    "\n",
    "Determine the _risk_ of each portfolio:\n",
    "\n",
    "1. Create a box plot for each portfolio. \n",
    "2. Calculate the standard deviation for all portfolios\n",
    "4. Determine which portfolios are riskier than the S&P 500\n",
    "5. Calculate the Annualized Standard Deviation"
   ]
  },
  {
   "cell_type": "markdown",
   "metadata": {},
   "source": [
    "### Create a box plot for each portfolio\n"
   ]
  },
  {
   "cell_type": "markdown",
   "metadata": {},
   "source": [
    "# Box plot to visually show risk\n",
    "# Using 4.2 #14 as my example.\n",
    "\n",
    "whale_returns_data.plot()\n",
    "algo_returns.plot()\n",
    "sp500_history.plot()\n",
    "\n"
   ]
  },
  {
   "cell_type": "markdown",
   "metadata": {},
   "source": [
    "### Calculate Standard Deviations"
   ]
  },
  {
   "cell_type": "markdown",
   "metadata": {},
   "source": [
    "# Calculate the daily standard deviations of all portfolios\n",
    "# I am using notes from section 3.3 #15\n",
    "\n",
    "whale_returns = np.random.normal(scale=0.5, size=10000)\n",
    "algo_returns = np.random.normal(scale=1.0, size=10000)\n",
    "sp500_history = np.random.normal(scale=1.5, size=10000)\n",
    "\n",
    "portfolio_std = pd.DataFrame({\n",
    "    \"0.5\": whale_returns,\n",
    "    \"1.0\": algo_returns,\n",
    "    \"1.5\": sp500_history\n",
    "})\n",
    "\n",
    "portfolio_std.plot.hist(stacked=True, bins=100)\n",
    "\n"
   ]
  },
  {
   "cell_type": "markdown",
   "metadata": {},
   "source": [
    "### Determine which portfolios are riskier than the S&P 500"
   ]
  },
  {
   "cell_type": "markdown",
   "metadata": {},
   "source": [
    "# Calculate  the daily standard deviation of S&P 500\n",
    "daily_std = sp500_history.std()\n",
    "daily_std.head()\n",
    "\n",
    "# Determine which portfolios are riskier than the S&P 500\n",
    "daily_std = whale_returns.std()\n",
    "daily_std.head()\n",
    "\n",
    "daily_std = algo_returns.std()\n",
    "daily_std.head()"
   ]
  },
  {
   "cell_type": "markdown",
   "metadata": {},
   "source": [
    "### Calculate the Annualized Standard Deviation"
   ]
  },
  {
   "cell_type": "markdown",
   "metadata": {},
   "source": [
    "# Calculate the annualized standard deviation (252 trading days)\n",
    "\n",
    "annualized_std = sp500_history * np.sqrt(252)\n",
    "annualized_std.head()\n",
    "\n",
    "annualized_std = whale_returns * np.sqrt(252)\n",
    "annualized_std.head()\n",
    "\n",
    "annualized_std = algo_returns * np.sqrt(252)\n",
    "annualized_std.head()"
   ]
  },
  {
   "cell_type": "markdown",
   "metadata": {},
   "source": [
    "---"
   ]
  },
  {
   "cell_type": "markdown",
   "metadata": {},
   "source": [
    "## Rolling Statistics\n",
    "\n",
    "Risk changes over time. Analyze the rolling statistics for Risk and Beta. \n",
    "\n",
    "1. Calculate and plot the rolling standard deviation for all portfolios using a 21-day window\n",
    "2. Calculate the correlation between each stock to determine which portfolios may mimick the S&P 500\n",
    "3. Choose one portfolio, then calculate and plot the 60-day rolling beta between it and the S&P 500"
   ]
  },
  {
   "cell_type": "markdown",
   "metadata": {},
   "source": [
    "### Calculate and plot rolling `std` for all portfolios with 21-day window"
   ]
  },
  {
   "cell_type": "markdown",
   "metadata": {},
   "source": [
    "# Calculate the rolling standard deviation for all portfolios using a 21-day window\n",
    "# Using 4.2 #9 as my example.  \n",
    "\n",
    "# Plot the rolling standard deviation\n",
    "whale_returns.rolling(window=21).std().plot()\n",
    "algo_returns.rolling(window=21).std().plot()\n",
    "sp500_history.rolling(window=21).std().plot()\n"
   ]
  },
  {
   "cell_type": "markdown",
   "metadata": {},
   "source": [
    "### Calculate and plot the correlation"
   ]
  },
  {
   "cell_type": "markdown",
   "metadata": {},
   "source": [
    "# Calculate the correlation\n",
    "# I was unable to finish this portion.\n",
    "# Display de correlation matrix\n",
    " "
   ]
  },
  {
   "cell_type": "markdown",
   "metadata": {},
   "source": [
    "### Calculate and Plot Beta for a chosen portfolio and the S&P 500"
   ]
  },
  {
   "cell_type": "markdown",
   "metadata": {},
   "source": [
    "# Calculate covariance of a single portfolio\n",
    "covariance = daily_returns['whale_returns'].cov(daily_returns['SP500'])\n",
    "covariance\n",
    "\n",
    "# Calculate variance of S&P 500\n",
    "\n",
    "variance = daily_returns['SP500'].var()\n",
    "variance\n",
    "\n",
    "# Computing beta\n",
    "whale_returns = covariance / variance\n",
    "whale_returns_beta\n",
    "\n",
    "# Plot beta trend\n",
    "rolling_beta = rolling_covariance / rolling_variance\n",
    "rolling_beta.plot(figsize=(20, 10), title='Rolling 30-Day Beta of Whale Returns')\n"
   ]
  },
  {
   "cell_type": "markdown",
   "metadata": {},
   "source": [
    "## Rolling Statistics Challenge: Exponentially Weighted Average \n",
    "\n",
    "An alternative way to calculate a rolling window is to take the exponentially weighted moving average. This is like a moving window average, but it assigns greater importance to more recent observations. Try calculating the [`ewm`](https://pandas.pydata.org/pandas-docs/stable/reference/api/pandas.DataFrame.ewm.html) with a 21-day half-life."
   ]
  },
  {
   "cell_type": "markdown",
   "metadata": {},
   "source": [
    "# Use `ewm` to calculate the rolling window\n",
    "# I was unable to finish this portion."
   ]
  },
  {
   "cell_type": "markdown",
   "metadata": {},
   "source": [
    "---"
   ]
  },
  {
   "cell_type": "markdown",
   "metadata": {},
   "source": [
    "# Sharpe Ratios\n",
    "In reality, investment managers and thier institutional investors look at the ratio of return-to-risk, and not just returns alone. After all, if you could invest in one of two portfolios, and each offered the same 10% return, yet one offered lower risk, you'd take that one, right?\n",
    "\n",
    "### Using the daily returns, calculate and visualize the Sharpe ratios using a bar plot"
   ]
  },
  {
   "cell_type": "markdown",
   "metadata": {},
   "source": [
    "# Visualize the sharpe ratios as a bar plot\n",
    "sharpe_ratios.plot(kind=\"bar\", title=\"Sharpe Ratios\")"
   ]
  },
  {
   "cell_type": "markdown",
   "metadata": {},
   "source": [
    "### Determine whether the algorithmic strategies outperform both the market (S&P 500) and the whales portfolios.\n",
    "\n",
    "At present I am unable to determinermine as I have not finished debugging my code in the alloted time. "
   ]
  },
  {
   "cell_type": "markdown",
   "metadata": {},
   "source": [
    "---"
   ]
  },
  {
   "cell_type": "markdown",
   "metadata": {},
   "source": [
    "# Create Custom Portfolio\n",
    "\n",
    "In this section, you will build your own portfolio of stocks, calculate the returns, and compare the results to the Whale Portfolios and the S&P 500. \n",
    "\n",
    "1. Choose 3-5 custom stocks with at last 1 year's worth of historic prices and create a DataFrame of the closing prices and dates for each stock.\n",
    "2. Calculate the weighted returns for the portfolio assuming an equal number of shares for each stock\n",
    "3. Join your portfolio returns to the DataFrame that contains all of the portfolio returns\n",
    "4. Re-run the performance and risk analysis with your portfolio to see how it compares to the others\n",
    "5. Include correlation analysis to determine which stocks (if any) are correlated"
   ]
  },
  {
   "cell_type": "markdown",
   "metadata": {},
   "source": [
    "## Choose 3-5 custom stocks with at last 1 year's worth of historic prices and create a DataFrame of the closing prices and dates for each stock."
   ]
  },
  {
   "cell_type": "markdown",
   "metadata": {},
   "source": [
    "# Reading data from 1st stock\n",
    "\n",
    "#This process was discussed on Pandas lecture: Video Time Stamp 02:20 \n",
    "import pandas as pd\n",
    "from pathlib import Path\n",
    "\n",
    "csv_path = Path(\"../resources/Ford.csv\")\n",
    "csv_path = Path(\"../resources/GM.csv\")\n",
    "csv_path = Path(\"../resources/Toyota.csv\")\n",
    "\n",
    "Ford = pd.read_csv(csv_path, index_col='Date'), parse_dates=True, infer_datetime_format=True)\n",
    "Ford_data.head()\n",
    "\n",
    "\n",
    "\n",
    "#Download the data as CSV files and calculate the portfolio returns.\n",
    "#Slice Data\n",
    "Ford_slice = Ford_Data.loc(#Enter time frames here)\n",
    "Ford_monthly_returns = Ford_slice.pct_change()\n",
    "\n",
    "GM_slice = GM_Data.loc(#Enter time frames here)\n",
    "GM_monthly_returns = GM_slice.pct_change()\n",
    "\n"
   ]
  },
  {
   "cell_type": "markdown",
   "metadata": {},
   "source": [
    "# Reading data from 2nd stock\n",
    "#Download the data as CSV files and calculate the portfolio returns.\n",
    "#Slice Data\n",
    "GM = pd.read_csv(csv_path, index_col='Date'), parse_dates=True, infer_datetime_format=True)\n",
    "GM_data.head()\n",
    "\n",
    "GM_slice = Toyota_Data.loc(#Enter time frames here)\n",
    "GM_monthly_returns = Toyota_slice.pct_change()\n"
   ]
  },
  {
   "cell_type": "markdown",
   "metadata": {},
   "source": [
    "# Reading data from 3rd stock\n",
    "import pandas as pd\n",
    "from pathlib import Path\n",
    "\n",
    "csv_path = Path(Toyota)\n",
    "\n",
    "\n",
    "#Download the data as CSV files and calculate the portfolio returns.\n",
    "#Slice Data\n",
    "Toyota = pd.read_csv(csv_path, index_col='Date'), parse_dates=True, infer_datetime_format=True)\n",
    "Toyota_data.head()\n",
    "\n",
    "Toyota_slice = Toyota_Data.loc(#Enter time frames here)\n",
    "Toyota_monthly_returns = Toyota_slice.pct_change()\n"
   ]
  },
  {
   "cell_type": "markdown",
   "metadata": {},
   "source": [
    "# Combine all stocks in a single DataFrame\n",
    "\n",
    "Ford_data_path = Path('../Resources/Ford.csv')\n",
    "GM_data_path = Path('../Resources/GM.csv')\n",
    "Toyota_data_path = Path('../Resources/Toyota_products.csv')\n",
    "\n",
    "joined_data_rows = pd.concat([Toyota_data_path, GM_data_path, Ford_data_path], axis=\"rows\", join=\"inner\")\n",
    "joined_data_rows()"
   ]
  },
  {
   "cell_type": "markdown",
   "metadata": {},
   "source": [
    "# Reset Date index\n",
    "# I was unable to finish this portion."
   ]
  },
  {
   "cell_type": "markdown",
   "metadata": {},
   "source": [
    "# Reorganize portfolio data by having a column per symbol\n",
    "# I was unable to finish this portion."
   ]
  },
  {
   "cell_type": "markdown",
   "metadata": {},
   "source": [
    "# Calculate daily returns\n",
    "daily_returns = combined_df.pct_change()\n",
    "daily_returns.head()\n",
    "\n",
    "# Drop NAs\n",
    "Ford_data_path_df.drop(columns=['NA: 0'], inplace=True)\n",
    "Ford_data_path_df.head()\n",
    "\n",
    "GM_df.drop(columns=['NA: 0'], inplace=True)\n",
    "GM_df.head()\n",
    "\n",
    "Toyota_df.drop(columns=['NA: 0'], inplace=True)\n",
    "Toyota_df.head()\n",
    "\n",
    "# Display sample data\n",
    "products_data.head()"
   ]
  },
  {
   "cell_type": "markdown",
   "metadata": {},
   "source": [
    "## Calculate the weighted returns for the portfolio assuming an equal number of shares for each stock"
   ]
  },
  {
   "cell_type": "markdown",
   "metadata": {},
   "source": [
    "# Set weights\n",
    "weights = [1/3, 1/3, 1/3]\n",
    "\n",
    "# Calculate portfolio return\n",
    "portfolio_returns = daily_returns.dot(weights)\n",
    "portfolio_returns.head()\n",
    "\n",
    "# Display sample data\n",
    "portfolio_returns.plot()"
   ]
  },
  {
   "cell_type": "markdown",
   "metadata": {},
   "source": [
    "## Join your portfolio returns to the DataFrame that contains all of the portfolio returns"
   ]
  },
  {
   "cell_type": "markdown",
   "metadata": {},
   "source": [
    "# Join your returns DataFrame to the original returns DataFrame\n",
    "# I was unable to finish this portion. "
   ]
  },
  {
   "cell_type": "markdown",
   "metadata": {},
   "source": [
    "# Only compare dates where return data exists for all the stocks (drop NaNs)\n",
    "# I was unable to finish this portion."
   ]
  },
  {
   "cell_type": "markdown",
   "metadata": {},
   "source": [
    "## Re-run the risk analysis with your portfolio to see how it compares to the others"
   ]
  },
  {
   "cell_type": "markdown",
   "metadata": {},
   "source": [
    "### Calculate the Annualized Standard Deviation"
   ]
  },
  {
   "cell_type": "markdown",
   "metadata": {},
   "source": [
    "# Calculate the annualized `std`\n",
    "annualized_std = daily_std * np.sqrt(252)\n",
    "annualized_std.head()"
   ]
  },
  {
   "cell_type": "markdown",
   "metadata": {},
   "source": [
    "### Calculate and plot rolling `std` with 21-day window"
   ]
  },
  {
   "cell_type": "markdown",
   "metadata": {},
   "source": [
    "### Calculate and plot the correlation"
   ]
  },
  {
   "cell_type": "markdown",
   "metadata": {},
   "source": [
    "# Calculate and plot the correlation\n",
    "# I was unable ot finish this portion."
   ]
  },
  {
   "cell_type": "markdown",
   "metadata": {},
   "source": [
    "### Calculate and Plot Rolling 60-day Beta for Your Portfolio compared to the S&P 500"
   ]
  },
  {
   "cell_type": "markdown",
   "metadata": {},
   "source": [
    "# Calculate and plot Beta\n",
    "# I was unable to finish this portion. "
   ]
  },
  {
   "cell_type": "markdown",
   "metadata": {},
   "source": [
    "### Using the daily returns, calculate and visualize the Sharpe ratios using a bar plot"
   ]
  },
  {
   "cell_type": "markdown",
   "metadata": {},
   "source": [
    "# Calculate Annualized Sharpe Ratios\n",
    "\n",
    "all_portfolios_returns = pd.concat([whale_returns, algo_returns, sp500_history], axis='columns', join='inner')\n",
    "all_portfolios_returns.head()\n",
    "\n",
    "sharpe_ratios = ((all_portfolios_returns.mean()-all_portfolios_returns['rf_rate'].mean()) * 252) / (all_portfolios_returns.std() * np.sqrt(252))\n",
    "sharpe_ratios\n",
    "\n",
    "\n"
   ]
  },
  {
   "cell_type": "markdown",
   "metadata": {},
   "source": [
    "# Visualize the sharpe ratios as a bar plot\n",
    "sharpe_ratios.plot(kind=\"bar\", title=\"Sharpe Ratios\")"
   ]
  },
  {
   "cell_type": "markdown",
   "metadata": {},
   "source": [
    "### How does your portfolio do?\n",
    "\n",
    "Write your answer here!"
   ]
  },
  {
   "cell_type": "markdown",
   "metadata": {},
   "source": [
    "At present I am unable to determine this answer. "
   ]
  },
  {
   "cell_type": "code",
   "execution_count": null,
   "metadata": {},
   "outputs": [],
   "source": []
  }
 ],
 "metadata": {
  "file_extension": ".py",
  "kernelspec": {
   "display_name": "Python 3",
   "language": "python",
   "name": "python3"
  },
  "language_info": {
   "codemirror_mode": {
    "name": "ipython",
    "version": 3
   },
   "file_extension": ".py",
   "mimetype": "text/x-python",
   "name": "python",
   "nbconvert_exporter": "python",
   "pygments_lexer": "ipython3",
   "version": "3.8.8"
  },
  "mimetype": "text/x-python",
  "name": "python",
  "npconvert_exporter": "python",
  "pygments_lexer": "ipython3",
  "version": 3
 },
 "nbformat": 4,
 "nbformat_minor": 4
}
